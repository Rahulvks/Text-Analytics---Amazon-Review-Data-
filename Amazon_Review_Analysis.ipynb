{
 "cells": [
  {
   "cell_type": "code",
   "execution_count": 1,
   "metadata": {
    "collapsed": false
   },
   "outputs": [
    {
     "name": "stderr",
     "output_type": "stream",
     "text": [
      "/home/nlp/anaconda2/lib/python2.7/site-packages/matplotlib/font_manager.py:273: UserWarning: Matplotlib is building the font cache using fc-list. This may take a moment.\n",
      "  warnings.warn('Matplotlib is building the font cache using fc-list. This may take a moment.')\n"
     ]
    }
   ],
   "source": [
    "import pandas as pd\n",
    "import numpy as np\n",
    "import os\n",
    "import matplotlib.pyplot as plt\n",
    "import matplotlib\n",
    "matplotlib.style.use('ggplot')\n",
    "from __future__ import unicode_literals\n"
   ]
  },
  {
   "cell_type": "code",
   "execution_count": 2,
   "metadata": {
    "collapsed": false
   },
   "outputs": [],
   "source": [
    "Amazon_Meta_Data = pd.read_csv(\"/home/nlp/Downloads/Amazon_Unlocked_Mobile.csv\")"
   ]
  },
  {
   "cell_type": "code",
   "execution_count": 3,
   "metadata": {
    "collapsed": false
   },
   "outputs": [
    {
     "data": {
      "text/html": [
       "<div>\n",
       "<table border=\"1\" class=\"dataframe\">\n",
       "  <thead>\n",
       "    <tr style=\"text-align: right;\">\n",
       "      <th></th>\n",
       "      <th>Product Name</th>\n",
       "      <th>Brand Name</th>\n",
       "      <th>Price</th>\n",
       "      <th>Rating</th>\n",
       "      <th>Reviews</th>\n",
       "      <th>Review Votes</th>\n",
       "    </tr>\n",
       "  </thead>\n",
       "  <tbody>\n",
       "    <tr>\n",
       "      <th>0</th>\n",
       "      <td>\"CLEAR CLEAN ESN\" Sprint EPIC 4G Galaxy SPH-D7...</td>\n",
       "      <td>Samsung</td>\n",
       "      <td>199.99</td>\n",
       "      <td>5</td>\n",
       "      <td>I feel so LUCKY to have found this used (phone...</td>\n",
       "      <td>1.0</td>\n",
       "    </tr>\n",
       "    <tr>\n",
       "      <th>1</th>\n",
       "      <td>\"CLEAR CLEAN ESN\" Sprint EPIC 4G Galaxy SPH-D7...</td>\n",
       "      <td>Samsung</td>\n",
       "      <td>199.99</td>\n",
       "      <td>4</td>\n",
       "      <td>nice phone, nice up grade from my pantach revu...</td>\n",
       "      <td>0.0</td>\n",
       "    </tr>\n",
       "  </tbody>\n",
       "</table>\n",
       "</div>"
      ],
      "text/plain": [
       "                                        Product Name Brand Name   Price  \\\n",
       "0  \"CLEAR CLEAN ESN\" Sprint EPIC 4G Galaxy SPH-D7...    Samsung  199.99   \n",
       "1  \"CLEAR CLEAN ESN\" Sprint EPIC 4G Galaxy SPH-D7...    Samsung  199.99   \n",
       "\n",
       "   Rating                                            Reviews  Review Votes  \n",
       "0       5  I feel so LUCKY to have found this used (phone...           1.0  \n",
       "1       4  nice phone, nice up grade from my pantach revu...           0.0  "
      ]
     },
     "execution_count": 3,
     "metadata": {},
     "output_type": "execute_result"
    }
   ],
   "source": [
    "Amazon_Meta_Data.head(2)"
   ]
  },
  {
   "cell_type": "markdown",
   "metadata": {},
   "source": []
  },
  {
   "cell_type": "code",
   "execution_count": 4,
   "metadata": {
    "collapsed": false
   },
   "outputs": [
    {
     "data": {
      "text/plain": [
       "Index([u'Product Name', u'Brand Name', u'Price', u'Rating', u'Reviews',\n",
       "       u'Review Votes'],\n",
       "      dtype='object')"
      ]
     },
     "execution_count": 4,
     "metadata": {},
     "output_type": "execute_result"
    }
   ],
   "source": [
    "Amazon_Meta_Data.columns"
   ]
  },
  {
   "cell_type": "code",
   "execution_count": 5,
   "metadata": {
    "collapsed": false
   },
   "outputs": [
    {
     "data": {
      "text/plain": [
       "Product Name     object\n",
       "Brand Name       object\n",
       "Price           float64\n",
       "Rating            int64\n",
       "Reviews          object\n",
       "Review Votes    float64\n",
       "dtype: object"
      ]
     },
     "execution_count": 5,
     "metadata": {},
     "output_type": "execute_result"
    }
   ],
   "source": [
    "Amazon_Meta_Data.dtypes"
   ]
  },
  {
   "cell_type": "code",
   "execution_count": 6,
   "metadata": {
    "collapsed": false
   },
   "outputs": [],
   "source": [
    "Reviews = Amazon_Meta_Data['Reviews'] "
   ]
  },
  {
   "cell_type": "code",
   "execution_count": 7,
   "metadata": {
    "collapsed": false
   },
   "outputs": [
    {
     "data": {
      "text/plain": [
       "413840"
      ]
     },
     "execution_count": 7,
     "metadata": {},
     "output_type": "execute_result"
    }
   ],
   "source": [
    "len(Reviews)"
   ]
  },
  {
   "cell_type": "code",
   "execution_count": 8,
   "metadata": {
    "collapsed": false
   },
   "outputs": [],
   "source": [
    "Brand_Name = Amazon_Meta_Data['Brand Name'].str.upper()"
   ]
  },
  {
   "cell_type": "code",
   "execution_count": 9,
   "metadata": {
    "collapsed": false
   },
   "outputs": [
    {
     "data": {
      "text/plain": [
       "SAMSUNG       68720\n",
       "BLU           63256\n",
       "APPLE         58187\n",
       "LG            22423\n",
       "BLACKBERRY    17929\n",
       "NOKIA         16841\n",
       "MOTOROLA      13447\n",
       "HTC           12927\n",
       "CNPGD         12613\n",
       "OTTERBOX       7989\n",
       "Name: Brand Name, dtype: int64"
      ]
     },
     "execution_count": 9,
     "metadata": {},
     "output_type": "execute_result"
    }
   ],
   "source": [
    "Brand_Name.value_counts().head(10)"
   ]
  },
  {
   "cell_type": "code",
   "execution_count": 10,
   "metadata": {
    "collapsed": false
   },
   "outputs": [],
   "source": [
    "Price = Amazon_Meta_Data['Price']"
   ]
  },
  {
   "cell_type": "code",
   "execution_count": 11,
   "metadata": {
    "collapsed": false
   },
   "outputs": [
    {
     "data": {
      "text/plain": [
       "226.86715538097766"
      ]
     },
     "execution_count": 11,
     "metadata": {},
     "output_type": "execute_result"
    }
   ],
   "source": [
    "Price.mean()"
   ]
  },
  {
   "cell_type": "code",
   "execution_count": 12,
   "metadata": {
    "collapsed": false
   },
   "outputs": [
    {
     "data": {
      "text/plain": [
       "144.71"
      ]
     },
     "execution_count": 12,
     "metadata": {},
     "output_type": "execute_result"
    }
   ],
   "source": [
    "Price.median()"
   ]
  },
  {
   "cell_type": "code",
   "execution_count": 13,
   "metadata": {
    "collapsed": false
   },
   "outputs": [
    {
     "name": "stdout",
     "output_type": "stream",
     "text": [
      "CPU times: user 0 ns, sys: 0 ns, total: 0 ns\n",
      "Wall time: 8.82 µs\n"
     ]
    }
   ],
   "source": [
    "%time\n",
    "table = pd.pivot_table(Amazon_Meta_Data,\n",
    "            values = ['Price'],\n",
    "            index = ['Brand Name'], \n",
    "                       columns= [],\n",
    "                       aggfunc=[np.mean, np.median], \n",
    "                       margins=True)\n",
    "\n",
    "#table"
   ]
  },
  {
   "cell_type": "code",
   "execution_count": 14,
   "metadata": {
    "collapsed": false
   },
   "outputs": [
    {
     "data": {
      "text/html": [
       "<div>\n",
       "<table border=\"1\" class=\"dataframe\">\n",
       "  <thead>\n",
       "    <tr style=\"text-align: right;\">\n",
       "      <th></th>\n",
       "      <th>count</th>\n",
       "      <th>min</th>\n",
       "      <th>max</th>\n",
       "    </tr>\n",
       "    <tr>\n",
       "      <th>Brand Name</th>\n",
       "      <th></th>\n",
       "      <th></th>\n",
       "      <th></th>\n",
       "    </tr>\n",
       "  </thead>\n",
       "  <tbody>\n",
       "    <tr>\n",
       "      <th>Samsung</th>\n",
       "      <td>65747</td>\n",
       "      <td>1</td>\n",
       "      <td>5</td>\n",
       "    </tr>\n",
       "    <tr>\n",
       "      <th>BLU</th>\n",
       "      <td>63248</td>\n",
       "      <td>1</td>\n",
       "      <td>5</td>\n",
       "    </tr>\n",
       "    <tr>\n",
       "      <th>Apple</th>\n",
       "      <td>58186</td>\n",
       "      <td>1</td>\n",
       "      <td>5</td>\n",
       "    </tr>\n",
       "    <tr>\n",
       "      <th>LG</th>\n",
       "      <td>22417</td>\n",
       "      <td>1</td>\n",
       "      <td>5</td>\n",
       "    </tr>\n",
       "    <tr>\n",
       "      <th>BlackBerry</th>\n",
       "      <td>16872</td>\n",
       "      <td>1</td>\n",
       "      <td>5</td>\n",
       "    </tr>\n",
       "    <tr>\n",
       "      <th>Nokia</th>\n",
       "      <td>16806</td>\n",
       "      <td>1</td>\n",
       "      <td>5</td>\n",
       "    </tr>\n",
       "    <tr>\n",
       "      <th>Motorola</th>\n",
       "      <td>13417</td>\n",
       "      <td>1</td>\n",
       "      <td>5</td>\n",
       "    </tr>\n",
       "    <tr>\n",
       "      <th>HTC</th>\n",
       "      <td>12724</td>\n",
       "      <td>1</td>\n",
       "      <td>5</td>\n",
       "    </tr>\n",
       "    <tr>\n",
       "      <th>CNPGD</th>\n",
       "      <td>12613</td>\n",
       "      <td>1</td>\n",
       "      <td>5</td>\n",
       "    </tr>\n",
       "    <tr>\n",
       "      <th>OtterBox</th>\n",
       "      <td>7989</td>\n",
       "      <td>1</td>\n",
       "      <td>5</td>\n",
       "    </tr>\n",
       "    <tr>\n",
       "      <th>Sony</th>\n",
       "      <td>7828</td>\n",
       "      <td>1</td>\n",
       "      <td>5</td>\n",
       "    </tr>\n",
       "    <tr>\n",
       "      <th>Posh Mobile</th>\n",
       "      <td>6765</td>\n",
       "      <td>1</td>\n",
       "      <td>5</td>\n",
       "    </tr>\n",
       "    <tr>\n",
       "      <th>Huawei</th>\n",
       "      <td>3325</td>\n",
       "      <td>1</td>\n",
       "      <td>5</td>\n",
       "    </tr>\n",
       "    <tr>\n",
       "      <th>LG Electronics</th>\n",
       "      <td>3105</td>\n",
       "      <td>1</td>\n",
       "      <td>5</td>\n",
       "    </tr>\n",
       "    <tr>\n",
       "      <th>samsung</th>\n",
       "      <td>2431</td>\n",
       "      <td>1</td>\n",
       "      <td>5</td>\n",
       "    </tr>\n",
       "  </tbody>\n",
       "</table>\n",
       "</div>"
      ],
      "text/plain": [
       "                count  min  max\n",
       "Brand Name                     \n",
       "Samsung         65747    1    5\n",
       "BLU             63248    1    5\n",
       "Apple           58186    1    5\n",
       "LG              22417    1    5\n",
       "BlackBerry      16872    1    5\n",
       "Nokia           16806    1    5\n",
       "Motorola        13417    1    5\n",
       "HTC             12724    1    5\n",
       "CNPGD           12613    1    5\n",
       "OtterBox         7989    1    5\n",
       "Sony             7828    1    5\n",
       "Posh Mobile      6765    1    5\n",
       "Huawei           3325    1    5\n",
       "LG Electronics   3105    1    5\n",
       "samsung          2431    1    5"
      ]
     },
     "execution_count": 14,
     "metadata": {},
     "output_type": "execute_result"
    }
   ],
   "source": [
    "Customer_Ratings = Amazon_Meta_Data.groupby(\n",
    "    'Brand Name'\n",
    "    ).Rating.agg(\n",
    "        ['count', 'min', 'max']\n",
    "    ).sort_values(\n",
    "        'count', ascending=False\n",
    "    )\n",
    "Customer_Ratings.head(15)"
   ]
  },
  {
   "cell_type": "code",
   "execution_count": 15,
   "metadata": {
    "collapsed": false,
    "scrolled": false
   },
   "outputs": [
    {
     "data": {
      "text/html": [
       "<div>\n",
       "<table border=\"1\" class=\"dataframe\">\n",
       "  <thead>\n",
       "    <tr style=\"text-align: right;\">\n",
       "      <th></th>\n",
       "      <th>count</th>\n",
       "      <th>min</th>\n",
       "      <th>max</th>\n",
       "    </tr>\n",
       "    <tr>\n",
       "      <th>Product Name</th>\n",
       "      <th></th>\n",
       "      <th></th>\n",
       "      <th></th>\n",
       "    </tr>\n",
       "  </thead>\n",
       "  <tbody>\n",
       "    <tr>\n",
       "      <th>Apple iPhone 4s 8GB Unlocked Smartphone w/ 8MP Camera, White (Certified Refurbished)</th>\n",
       "      <td>1451</td>\n",
       "      <td>1</td>\n",
       "      <td>5</td>\n",
       "    </tr>\n",
       "    <tr>\n",
       "      <th>Apple MF259LL/A - iPhone 4s 8GB / 8MP Camera - Unlocked - Black (Certified Refurbished)</th>\n",
       "      <td>1241</td>\n",
       "      <td>1</td>\n",
       "      <td>5</td>\n",
       "    </tr>\n",
       "    <tr>\n",
       "      <th>BLU Studio 5.0 C HD Unlocked Cellphone, Black</th>\n",
       "      <td>1194</td>\n",
       "      <td>1</td>\n",
       "      <td>5</td>\n",
       "    </tr>\n",
       "    <tr>\n",
       "      <th>OtterBox Iphone 5/5S/SE Defender Case w/ Drop and Dust Proctection - Realtree AP Pink</th>\n",
       "      <td>1129</td>\n",
       "      <td>1</td>\n",
       "      <td>5</td>\n",
       "    </tr>\n",
       "    <tr>\n",
       "      <th>Motorola Moto E (1st Generation) - Black - 4 GB - Global GSM Unlocked Phone</th>\n",
       "      <td>1127</td>\n",
       "      <td>1</td>\n",
       "      <td>5</td>\n",
       "    </tr>\n",
       "    <tr>\n",
       "      <th>Apple iPhone 5s 32GB (Silver) - AT&amp;T</th>\n",
       "      <td>1118</td>\n",
       "      <td>1</td>\n",
       "      <td>5</td>\n",
       "    </tr>\n",
       "    <tr>\n",
       "      <th>BLU Energy X Plus Smartphone - With 4000 mAh Super Battery- US GSM Unlocked - Grey</th>\n",
       "      <td>1111</td>\n",
       "      <td>1</td>\n",
       "      <td>5</td>\n",
       "    </tr>\n",
       "    <tr>\n",
       "      <th>Samsung Galaxy S Duos II S7582 DUAL SIM Factory Unlocked International Version - Black</th>\n",
       "      <td>1109</td>\n",
       "      <td>1</td>\n",
       "      <td>5</td>\n",
       "    </tr>\n",
       "    <tr>\n",
       "      <th>Samsung Galaxy S Duos II GT-S7582 Factory Unlocked Cellphone, International Version, White</th>\n",
       "      <td>1108</td>\n",
       "      <td>1</td>\n",
       "      <td>5</td>\n",
       "    </tr>\n",
       "    <tr>\n",
       "      <th>Samsung Galaxy S Duos GT-S7562 GSM Unlocked Touchscreen 5MP Camera Smartphone White</th>\n",
       "      <td>1096</td>\n",
       "      <td>1</td>\n",
       "      <td>5</td>\n",
       "    </tr>\n",
       "    <tr>\n",
       "      <th>Samsung Galaxy S4 i9505 16GB LTE Unlocked International Version White</th>\n",
       "      <td>1095</td>\n",
       "      <td>1</td>\n",
       "      <td>5</td>\n",
       "    </tr>\n",
       "    <tr>\n",
       "      <th>Apple iPhone 5s AT&amp;T Cellphone, 16GB, Silver</th>\n",
       "      <td>1080</td>\n",
       "      <td>1</td>\n",
       "      <td>5</td>\n",
       "    </tr>\n",
       "    <tr>\n",
       "      <th>Apple iPhone 4S 16GB Unlocked GSM - White (Certified Refurbished)</th>\n",
       "      <td>1071</td>\n",
       "      <td>1</td>\n",
       "      <td>5</td>\n",
       "    </tr>\n",
       "    <tr>\n",
       "      <th>BLU Energy X Plus Smartphone - With 4000 mAh Super Battery- Global GSM Unlocked - Grey</th>\n",
       "      <td>1061</td>\n",
       "      <td>1</td>\n",
       "      <td>5</td>\n",
       "    </tr>\n",
       "    <tr>\n",
       "      <th>Motorola Moto E (1st Generation) - Black - 4 GB - US GSM Unlocked Phone</th>\n",
       "      <td>1057</td>\n",
       "      <td>1</td>\n",
       "      <td>5</td>\n",
       "    </tr>\n",
       "  </tbody>\n",
       "</table>\n",
       "</div>"
      ],
      "text/plain": [
       "                                                    count  min  max\n",
       "Product Name                                                       \n",
       "Apple iPhone 4s 8GB Unlocked Smartphone w/ 8MP ...   1451    1    5\n",
       "Apple MF259LL/A - iPhone 4s 8GB / 8MP Camera - ...   1241    1    5\n",
       "BLU Studio 5.0 C HD Unlocked Cellphone, Black        1194    1    5\n",
       "OtterBox Iphone 5/5S/SE Defender Case w/ Drop a...   1129    1    5\n",
       "Motorola Moto E (1st Generation) - Black - 4 GB...   1127    1    5\n",
       "Apple iPhone 5s 32GB (Silver) - AT&T                 1118    1    5\n",
       "BLU Energy X Plus Smartphone - With 4000 mAh Su...   1111    1    5\n",
       "Samsung Galaxy S Duos II S7582 DUAL SIM Factory...   1109    1    5\n",
       "Samsung Galaxy S Duos II GT-S7582 Factory Unloc...   1108    1    5\n",
       "Samsung Galaxy S Duos GT-S7562 GSM Unlocked Tou...   1096    1    5\n",
       "Samsung Galaxy S4 i9505 16GB LTE Unlocked Inter...   1095    1    5\n",
       "Apple iPhone 5s AT&T Cellphone, 16GB, Silver         1080    1    5\n",
       "Apple iPhone 4S 16GB Unlocked GSM - White (Cert...   1071    1    5\n",
       "BLU Energy X Plus Smartphone - With 4000 mAh Su...   1061    1    5\n",
       "Motorola Moto E (1st Generation) - Black - 4 GB...   1057    1    5"
      ]
     },
     "execution_count": 15,
     "metadata": {},
     "output_type": "execute_result"
    }
   ],
   "source": [
    "Product_Ratings = Amazon_Meta_Data.groupby(\n",
    "    'Product Name'\n",
    "    ).Rating.agg(\n",
    "        ['count', 'min', 'max']\n",
    "    ).sort_values(\n",
    "        'count', ascending=False\n",
    "    )\n",
    "Product_Ratings.head(15)"
   ]
  },
  {
   "cell_type": "code",
   "execution_count": 16,
   "metadata": {
    "collapsed": false
   },
   "outputs": [
    {
     "data": {
      "text/html": [
       "<div>\n",
       "<table border=\"1\" class=\"dataframe\">\n",
       "  <thead>\n",
       "    <tr>\n",
       "      <th></th>\n",
       "      <th>sum</th>\n",
       "      <th>mean</th>\n",
       "      <th>count_nonzero</th>\n",
       "      <th>std</th>\n",
       "    </tr>\n",
       "    <tr>\n",
       "      <th></th>\n",
       "      <th>Rating</th>\n",
       "      <th>Rating</th>\n",
       "      <th>Rating</th>\n",
       "      <th>Rating</th>\n",
       "    </tr>\n",
       "    <tr>\n",
       "      <th>Brand Name</th>\n",
       "      <th></th>\n",
       "      <th></th>\n",
       "      <th></th>\n",
       "      <th></th>\n",
       "    </tr>\n",
       "  </thead>\n",
       "  <tbody>\n",
       "    <tr>\n",
       "      <th>All</th>\n",
       "      <td>1330128.0</td>\n",
       "      <td>3.814873</td>\n",
       "      <td>348669.0</td>\n",
       "      <td>1.545507</td>\n",
       "    </tr>\n",
       "    <tr>\n",
       "      <th>Samsung</th>\n",
       "      <td>260513.0</td>\n",
       "      <td>3.962356</td>\n",
       "      <td>65747.0</td>\n",
       "      <td>1.485313</td>\n",
       "    </tr>\n",
       "    <tr>\n",
       "      <th>BLU</th>\n",
       "      <td>239853.0</td>\n",
       "      <td>3.792262</td>\n",
       "      <td>63248.0</td>\n",
       "      <td>1.502263</td>\n",
       "    </tr>\n",
       "    <tr>\n",
       "      <th>Apple</th>\n",
       "      <td>228346.0</td>\n",
       "      <td>3.924415</td>\n",
       "      <td>58186.0</td>\n",
       "      <td>1.576060</td>\n",
       "    </tr>\n",
       "    <tr>\n",
       "      <th>LG</th>\n",
       "      <td>86114.0</td>\n",
       "      <td>3.841460</td>\n",
       "      <td>22417.0</td>\n",
       "      <td>1.534323</td>\n",
       "    </tr>\n",
       "    <tr>\n",
       "      <th>BlackBerry</th>\n",
       "      <td>63126.0</td>\n",
       "      <td>3.741465</td>\n",
       "      <td>16872.0</td>\n",
       "      <td>1.599935</td>\n",
       "    </tr>\n",
       "    <tr>\n",
       "      <th>Nokia</th>\n",
       "      <td>64187.0</td>\n",
       "      <td>3.819291</td>\n",
       "      <td>16806.0</td>\n",
       "      <td>1.490946</td>\n",
       "    </tr>\n",
       "    <tr>\n",
       "      <th>Motorola</th>\n",
       "      <td>51157.0</td>\n",
       "      <td>3.812849</td>\n",
       "      <td>13417.0</td>\n",
       "      <td>1.524914</td>\n",
       "    </tr>\n",
       "    <tr>\n",
       "      <th>HTC</th>\n",
       "      <td>44094.0</td>\n",
       "      <td>3.465420</td>\n",
       "      <td>12724.0</td>\n",
       "      <td>1.660243</td>\n",
       "    </tr>\n",
       "    <tr>\n",
       "      <th>CNPGD</th>\n",
       "      <td>39176.0</td>\n",
       "      <td>3.106002</td>\n",
       "      <td>12613.0</td>\n",
       "      <td>1.618294</td>\n",
       "    </tr>\n",
       "    <tr>\n",
       "      <th>OtterBox</th>\n",
       "      <td>35022.0</td>\n",
       "      <td>4.383778</td>\n",
       "      <td>7989.0</td>\n",
       "      <td>1.164561</td>\n",
       "    </tr>\n",
       "  </tbody>\n",
       "</table>\n",
       "</div>"
      ],
      "text/plain": [
       "                  sum      mean count_nonzero       std\n",
       "               Rating    Rating        Rating    Rating\n",
       "Brand Name                                             \n",
       "All         1330128.0  3.814873      348669.0  1.545507\n",
       "Samsung      260513.0  3.962356       65747.0  1.485313\n",
       "BLU          239853.0  3.792262       63248.0  1.502263\n",
       "Apple        228346.0  3.924415       58186.0  1.576060\n",
       "LG            86114.0  3.841460       22417.0  1.534323\n",
       "BlackBerry    63126.0  3.741465       16872.0  1.599935\n",
       "Nokia         64187.0  3.819291       16806.0  1.490946\n",
       "Motorola      51157.0  3.812849       13417.0  1.524914\n",
       "HTC           44094.0  3.465420       12724.0  1.660243\n",
       "CNPGD         39176.0  3.106002       12613.0  1.618294\n",
       "OtterBox      35022.0  4.383778        7989.0  1.164561"
      ]
     },
     "execution_count": 16,
     "metadata": {},
     "output_type": "execute_result"
    }
   ],
   "source": [
    "\n",
    "\n",
    "pivot = pd.pivot_table(Amazon_Meta_Data,\n",
    "            values = ['Rating'],\n",
    "            index =  ['Brand Name'],\n",
    "                       columns= [],\n",
    "                       aggfunc=[np.sum, np.mean, np.count_nonzero, np.std], \n",
    "                       margins=True, fill_value=0).sort_values(by=('count_nonzero', 'Rating'), ascending=False).fillna('')\n",
    "top_10_brands = pivot.reindex().head(n=11)\n",
    "top_10_brands\n",
    "\n"
   ]
  },
  {
   "cell_type": "code",
   "execution_count": 17,
   "metadata": {
    "collapsed": false
   },
   "outputs": [
    {
     "name": "stderr",
     "output_type": "stream",
     "text": [
      "/home/nlp/anaconda2/lib/python2.7/site-packages/nltk/twitter/__init__.py:20: UserWarning: The twython library has not been installed. Some functionality from the twitter package will not be available.\n",
      "  warnings.warn(\"The twython library has not been installed. \"\n"
     ]
    }
   ],
   "source": [
    "from nltk.sentiment.vader import SentimentIntensityAnalyzer\n",
    "sample_review = Reviews[:5]   \n"
   ]
  },
  {
   "cell_type": "code",
   "execution_count": 18,
   "metadata": {
    "collapsed": false
   },
   "outputs": [],
   "source": [
    "sentiment = SentimentIntensityAnalyzer()"
   ]
  },
  {
   "cell_type": "code",
   "execution_count": 19,
   "metadata": {
    "collapsed": false
   },
   "outputs": [
    {
     "name": "stdout",
     "output_type": "stream",
     "text": [
      "I feel so LUCKY to have found this used (phone to us & not used hard at all), phone on line from someone who upgraded and sold this one. My Son liked his old one that finally fell apart after 2.5+ years and didn't want an upgrade!! Thank you Seller, we really appreciate it & your honesty re: said used phone.I recommend this seller very highly & would but from them again!!\n",
      "compound: 0.8783, \n",
      "neg: 0.015, \n",
      "neu: 0.796, \n",
      "pos: 0.189, \n",
      "I feel so LUCKY to have found this used (phone to us & not used hard at all), phone on line from someone who upgraded and sold this one. My Son liked his old one that finally fell apart after 2.5+ years and didn't want an upgrade!! Thank you Seller, we really appreciate it & your honesty re: said used phone.I recommend this seller very highly & would but from them again!!\n",
      "nice phone, nice up grade from my pantach revue. Very clean set up and easy set up. never had an android phone but they are fantastic to say the least. perfect size for surfing and social media. great phone samsung\n",
      "compound: 0.9231, \n",
      "neg: 0.072, \n",
      "neu: 0.597, \n",
      "pos: 0.331, \n",
      "nice phone, nice up grade from my pantach revue. Very clean set up and easy set up. never had an android phone but they are fantastic to say the least. perfect size for surfing and social media. great phone samsung\n",
      "Very pleased\n",
      "compound: 0.4927, \n",
      "neg: 0.0, \n",
      "neu: 0.238, \n",
      "pos: 0.762, \n",
      "Very pleased\n",
      "It works good but it goes slow sometimes but its a very good phone I love it\n",
      "compound: 0.9185, \n",
      "neg: 0.0, \n",
      "neu: 0.5, \n",
      "pos: 0.5, \n",
      "It works good but it goes slow sometimes but its a very good phone I love it\n",
      "Great phone to replace my lost phone. The only thing is the volume up button does not work, but I can still go into settings to adjust. Other than that, it does the job until I am eligible to upgrade my phone again.Thaanks!\n",
      "compound: 0.2942, \n",
      "neg: 0.038, \n",
      "neu: 0.897, \n",
      "pos: 0.065, \n",
      "Great phone to replace my lost phone. The only thing is the volume up button does not work, but I can still go into settings to adjust. Other than that, it does the job until I am eligible to upgrade my phone again.Thaanks!\n"
     ]
    }
   ],
   "source": [
    "for sentences in sample_review:\n",
    "    print sentences\n",
    "    ss = sentiment.polarity_scores(sentences)\n",
    "    for k in sorted(ss):\n",
    "        print('{0}: {1}, '.format(k, ss[k]))\n",
    "    print(sentences)"
   ]
  },
  {
   "cell_type": "code",
   "execution_count": 83,
   "metadata": {
    "collapsed": false
   },
   "outputs": [],
   "source": [
    "#Review_Data = pd.read_csv(\"/home/nlp/Downloads/amazon-reviews-unlocked-mobile-phones.zip\",nrows=2000)\n",
    "#from nltk.sentiment.vader import SentimentIntensityAnalyzer\n",
    "#senti = SentimentIntensityAnalyzer()\n",
    "#Review_Data['Compound'] = Review_Data.Reviews.apply(lambda x : senti.polarity_scores(x),['compound'])\n",
    "#Review_Data['Neutral'] = Review_Data.Reviews.apply(lambda x : senti.polarity_scores(x),['neu'])\n",
    "#Review_Data['Positive'] = Review_Data.Reviews.apply(lambda x : senti.polarity_scores(x),['pos'])\n",
    "#Review_Data['Negative'] = Review_Data.Reviews.apply(lambda x : senti.polarity_scores(x),['neg'])\n",
    "#Review_Data['Sentimet_Score'] = ''\n",
    "#Review_Data.loc[Review_Data.Compound>0,'Sentiment_Score']='Positive'\n",
    "#Review_Data.loc[Review_Data.Compound==0,'Sentiment_Socre'] ='Negative'\n",
    "#Review_Data.loc[Review_Data.Compound<0,'Sentiment_Score'] ='Neutral'\n",
    "\n"
   ]
  },
  {
   "cell_type": "code",
   "execution_count": 84,
   "metadata": {
    "collapsed": false
   },
   "outputs": [],
   "source": [
    "#Word2vec"
   ]
  },
  {
   "cell_type": "code",
   "execution_count": 20,
   "metadata": {
    "collapsed": false
   },
   "outputs": [],
   "source": [
    "import gensim, logging\n",
    "logging.basicConfig(format='%(asctime)s : %(levelname)s : %(message)s', level=logging.INFO)"
   ]
  },
  {
   "cell_type": "code",
   "execution_count": 21,
   "metadata": {
    "collapsed": false,
    "scrolled": true
   },
   "outputs": [
    {
     "data": {
      "text/plain": [
       "413840"
      ]
     },
     "execution_count": 21,
     "metadata": {},
     "output_type": "execute_result"
    }
   ],
   "source": [
    "len(Reviews)"
   ]
  },
  {
   "cell_type": "code",
   "execution_count": 22,
   "metadata": {
    "collapsed": false
   },
   "outputs": [
    {
     "data": {
      "text/plain": [
       "pandas.core.series.Series"
      ]
     },
     "execution_count": 22,
     "metadata": {},
     "output_type": "execute_result"
    }
   ],
   "source": [
    "Test = Reviews[:100000]\n",
    "type(Test)"
   ]
  },
  {
   "cell_type": "code",
   "execution_count": 23,
   "metadata": {
    "collapsed": false
   },
   "outputs": [],
   "source": [
    "from gensim.models import Word2Vec\n",
    "from gensim.models import word2vec\n"
   ]
  },
  {
   "cell_type": "code",
   "execution_count": 24,
   "metadata": {
    "collapsed": true
   },
   "outputs": [],
   "source": [
    "Test.to_csv(\"/home/nlp/Desktop/w2v.txt\")"
   ]
  },
  {
   "cell_type": "code",
   "execution_count": 25,
   "metadata": {
    "collapsed": false
   },
   "outputs": [],
   "source": [
    "data = word2vec.Text8Corpus(\"/home/nlp/Desktop/w2v.txt\")"
   ]
  },
  {
   "cell_type": "code",
   "execution_count": 26,
   "metadata": {
    "collapsed": false,
    "scrolled": true
   },
   "outputs": [
    {
     "name": "stderr",
     "output_type": "stream",
     "text": [
      "2017-02-01 16:25:49,765 : INFO : collecting all words and their counts\n",
      "2017-02-01 16:25:49,768 : INFO : PROGRESS: at sentence #0, processed 0 words, keeping 0 word types\n",
      "2017-02-01 16:25:51,213 : INFO : collected 169500 word types from a corpus of 2925771 raw words and 293 sentences\n",
      "2017-02-01 16:25:51,215 : INFO : Loading a fresh vocabulary\n",
      "2017-02-01 16:25:51,437 : INFO : min_count=5 retains 22442 unique words (13% of original 169500, drops 147058)\n",
      "2017-02-01 16:25:51,438 : INFO : min_count=5 leaves 2749779 word corpus (93% of original 2925771, drops 175992)\n",
      "2017-02-01 16:25:51,550 : INFO : deleting the raw counts dictionary of 169500 items\n",
      "2017-02-01 16:25:51,574 : INFO : sample=0.001 downsamples 47 most-common words\n",
      "2017-02-01 16:25:51,575 : INFO : downsampling leaves estimated 2087488 word corpus (75.9% of prior 2749779)\n",
      "2017-02-01 16:25:51,576 : INFO : estimated required memory for 22442 words and 200 dimensions: 47128200 bytes\n",
      "2017-02-01 16:25:51,681 : INFO : resetting layer weights\n",
      "2017-02-01 16:25:52,147 : INFO : training model with 3 workers on 22442 vocabulary and 200 features, using sg=0 hs=0 sample=0.001 negative=5 window=10\n",
      "2017-02-01 16:25:52,147 : INFO : expecting 293 sentences, matching count from corpus used for vocabulary survey\n",
      "2017-02-01 16:25:53,158 : INFO : PROGRESS: at 4.16% examples, 421336 words/s, in_qsize 5, out_qsize 1\n",
      "2017-02-01 16:25:54,162 : INFO : PROGRESS: at 8.74% examples, 447761 words/s, in_qsize 6, out_qsize 0\n",
      "2017-02-01 16:25:55,173 : INFO : PROGRESS: at 13.17% examples, 452932 words/s, in_qsize 6, out_qsize 0\n",
      "2017-02-01 16:25:56,184 : INFO : PROGRESS: at 17.68% examples, 457390 words/s, in_qsize 5, out_qsize 1\n",
      "2017-02-01 16:25:57,179 : INFO : PROGRESS: at 22.53% examples, 466293 words/s, in_qsize 3, out_qsize 0\n",
      "2017-02-01 16:25:58,199 : INFO : PROGRESS: at 26.83% examples, 460812 words/s, in_qsize 6, out_qsize 0\n",
      "2017-02-01 16:25:59,213 : INFO : PROGRESS: at 31.67% examples, 466771 words/s, in_qsize 5, out_qsize 0\n",
      "2017-02-01 16:26:00,216 : INFO : PROGRESS: at 36.52% examples, 472263 words/s, in_qsize 6, out_qsize 0\n",
      "2017-02-01 16:26:01,217 : INFO : PROGRESS: at 41.57% examples, 478232 words/s, in_qsize 5, out_qsize 0\n",
      "2017-02-01 16:26:02,245 : INFO : PROGRESS: at 46.69% examples, 481627 words/s, in_qsize 6, out_qsize 0\n",
      "2017-02-01 16:26:03,256 : INFO : PROGRESS: at 51.74% examples, 485551 words/s, in_qsize 5, out_qsize 1\n",
      "2017-02-01 16:26:04,265 : INFO : PROGRESS: at 56.72% examples, 488536 words/s, in_qsize 5, out_qsize 0\n",
      "2017-02-01 16:26:05,269 : INFO : PROGRESS: at 61.71% examples, 490753 words/s, in_qsize 6, out_qsize 0\n",
      "2017-02-01 16:26:06,289 : INFO : PROGRESS: at 66.83% examples, 492527 words/s, in_qsize 5, out_qsize 1\n",
      "2017-02-01 16:26:07,306 : INFO : PROGRESS: at 71.88% examples, 494464 words/s, in_qsize 5, out_qsize 0\n",
      "2017-02-01 16:26:08,312 : INFO : PROGRESS: at 76.79% examples, 495770 words/s, in_qsize 5, out_qsize 0\n",
      "2017-02-01 16:26:09,315 : INFO : PROGRESS: at 81.64% examples, 496262 words/s, in_qsize 5, out_qsize 0\n",
      "2017-02-01 16:26:10,334 : INFO : PROGRESS: at 86.69% examples, 496931 words/s, in_qsize 6, out_qsize 0\n",
      "2017-02-01 16:26:11,361 : INFO : PROGRESS: at 91.74% examples, 498220 words/s, in_qsize 5, out_qsize 1\n",
      "2017-02-01 16:26:12,354 : INFO : PROGRESS: at 96.66% examples, 499249 words/s, in_qsize 5, out_qsize 0\n",
      "2017-02-01 16:26:13,008 : INFO : worker thread finished; awaiting finish of 2 more threads\n",
      "2017-02-01 16:26:13,009 : INFO : worker thread finished; awaiting finish of 1 more threads\n",
      "2017-02-01 16:26:13,010 : INFO : worker thread finished; awaiting finish of 0 more threads\n",
      "2017-02-01 16:26:13,011 : INFO : training on 14628855 raw words (10438253 effective words) took 20.9s, 500378 effective words/s\n"
     ]
    }
   ],
   "source": [
    "model = word2vec.Word2Vec(data, size=200, window=10, min_count= 5)"
   ]
  },
  {
   "cell_type": "code",
   "execution_count": 27,
   "metadata": {
    "collapsed": false
   },
   "outputs": [
    {
     "name": "stderr",
     "output_type": "stream",
     "text": [
      "2017-02-01 16:26:13,017 : INFO : precomputing L2-norms of word weight vectors\n"
     ]
    }
   ],
   "source": [
    "Price = model.most_similar(positive=[u'price'])"
   ]
  },
  {
   "cell_type": "code",
   "execution_count": 28,
   "metadata": {
    "collapsed": false
   },
   "outputs": [
    {
     "data": {
      "text/plain": [
       "[(u'price.', 0.7123796343803406),\n",
       " (u'price,', 0.697447657585144),\n",
       " (u'price.\"', 0.6406670212745667),\n",
       " (u'price!', 0.5621984004974365),\n",
       " (u'deal', 0.5455316305160522),\n",
       " (u'deal,', 0.5049536228179932),\n",
       " (u'dollars,', 0.4735690951347351),\n",
       " (u'looking', 0.4663526117801666),\n",
       " (u'off.If', 0.4624701142311096),\n",
       " (u'affordable', 0.4575551152229309)]"
      ]
     },
     "execution_count": 28,
     "metadata": {},
     "output_type": "execute_result"
    }
   ],
   "source": [
    "Price"
   ]
  },
  {
   "cell_type": "code",
   "execution_count": 29,
   "metadata": {
    "collapsed": false
   },
   "outputs": [],
   "source": [
    "Product = model.most_similar(positive=[u'product'])"
   ]
  },
  {
   "cell_type": "code",
   "execution_count": 30,
   "metadata": {
    "collapsed": false
   },
   "outputs": [
    {
     "data": {
      "text/plain": [
       "[(u'item', 0.7379856705665588),\n",
       " (u'product,', 0.5900255441665649),\n",
       " (u'seller,', 0.5453839302062988),\n",
       " (u'product.', 0.5451264977455139),\n",
       " (u'product.\"', 0.5302402973175049),\n",
       " (u'seller', 0.5164742469787598),\n",
       " (u'phone', 0.5062647461891174),\n",
       " (u'device', 0.503362774848938),\n",
       " (u'team', 0.4967000484466553),\n",
       " (u'cellphone', 0.4905671775341034)]"
      ]
     },
     "execution_count": 30,
     "metadata": {},
     "output_type": "execute_result"
    }
   ],
   "source": [
    "Product"
   ]
  },
  {
   "cell_type": "code",
   "execution_count": 31,
   "metadata": {
    "collapsed": false
   },
   "outputs": [],
   "source": [
    "Apple = model.most_similar(positive=[u'apple'])"
   ]
  },
  {
   "cell_type": "code",
   "execution_count": 32,
   "metadata": {
    "collapsed": false
   },
   "outputs": [
    {
     "data": {
      "text/plain": [
       "[(u'Apple', 0.6373956203460693),\n",
       " (u'they', 0.46148815751075745),\n",
       " (u'warranty', 0.4358866214752197),\n",
       " (u'mi\"', 0.43423834443092346),\n",
       " (u'store', 0.43267643451690674),\n",
       " (u'refurnished', 0.42211973667144775),\n",
       " (u'OEM', 0.4186159372329712),\n",
       " (u'repaired', 0.4182755947113037),\n",
       " (u'Asus', 0.4123896360397339),\n",
       " (u'15-minute', 0.4121342599391937)]"
      ]
     },
     "execution_count": 32,
     "metadata": {},
     "output_type": "execute_result"
    }
   ],
   "source": [
    "Apple"
   ]
  },
  {
   "cell_type": "code",
   "execution_count": 33,
   "metadata": {
    "collapsed": true
   },
   "outputs": [],
   "source": [
    "Samsung = model.most_similar(positive=[u'samsung'])"
   ]
  },
  {
   "cell_type": "code",
   "execution_count": 34,
   "metadata": {
    "collapsed": false
   },
   "outputs": [
    {
     "data": {
      "text/plain": [
       "[(u'galaxy', 0.7933704853057861),\n",
       " (u'edge.Here', 0.7349721193313599),\n",
       " (u'S7,load', 0.7346867322921753),\n",
       " (u'specsLTE', 0.7262697219848633),\n",
       " (u's7', 0.723058819770813),\n",
       " (u'Moto', 0.716539204120636),\n",
       " (u's3.', 0.6759619116783142),\n",
       " (u'Xperia', 0.6709156036376953),\n",
       " (u'Bands', 0.6697211265563965),\n",
       " (u'Idol', 0.6639095544815063)]"
      ]
     },
     "execution_count": 34,
     "metadata": {},
     "output_type": "execute_result"
    }
   ],
   "source": [
    "Samsung"
   ]
  },
  {
   "cell_type": "code",
   "execution_count": 35,
   "metadata": {
    "collapsed": false
   },
   "outputs": [],
   "source": [
    "vocabulary_lenght = len(model.wv.vocab)"
   ]
  },
  {
   "cell_type": "code",
   "execution_count": 36,
   "metadata": {
    "collapsed": false
   },
   "outputs": [
    {
     "data": {
      "text/plain": [
       "22442"
      ]
     },
     "execution_count": 36,
     "metadata": {},
     "output_type": "execute_result"
    }
   ],
   "source": [
    "vocabulary_lenght\n"
   ]
  },
  {
   "cell_type": "code",
   "execution_count": 37,
   "metadata": {
    "collapsed": false
   },
   "outputs": [
    {
     "name": "stderr",
     "output_type": "stream",
     "text": [
      "2017-02-01 16:26:14,130 : INFO : storing 22442x200 projection weights into /home/nlp/Desktop/w2vmodel.csv\n"
     ]
    }
   ],
   "source": [
    "model.save_word2vec_format(\"/home/nlp/Desktop/w2vmodel.csv\")"
   ]
  },
  {
   "cell_type": "code",
   "execution_count": 38,
   "metadata": {
    "collapsed": false
   },
   "outputs": [],
   "source": [
    "Cluter_Data = pd.read_csv(\"/home/nlp/Downloads/amazon-reviews-unlocked-mobile-phones.zip\",nrows=6000)"
   ]
  },
  {
   "cell_type": "code",
   "execution_count": 39,
   "metadata": {
    "collapsed": false
   },
   "outputs": [
    {
     "data": {
      "text/plain": [
       "Index([u'Product Name', u'Brand Name', u'Price', u'Rating', u'Reviews',\n",
       "       u'Review Votes'],\n",
       "      dtype='object')"
      ]
     },
     "execution_count": 39,
     "metadata": {},
     "output_type": "execute_result"
    }
   ],
   "source": [
    "from sklearn.feature_extraction.text import TfidfVectorizer\n",
    "from nltk.stem import WordNetLemmatizer\n",
    "import re\n",
    "Cluter_Data.columns"
   ]
  },
  {
   "cell_type": "code",
   "execution_count": 40,
   "metadata": {
    "collapsed": true
   },
   "outputs": [],
   "source": [
    "#Text Cleaning"
   ]
  },
  {
   "cell_type": "code",
   "execution_count": 41,
   "metadata": {
    "collapsed": false
   },
   "outputs": [],
   "source": [
    "from nltk.corpus import stopwords\n",
    "stop = set(stopwords.words('english'))\n",
    "from nltk.corpus import stopwords\n",
    "def remove_stopword(word):\n",
    "    return word not in words\n",
    "\n",
    "from nltk.stem import WordNetLemmatizer\n",
    "Lemma = WordNetLemmatizer()\n",
    "\n",
    "from nltk.stem.snowball import SnowballStemmer\n",
    "stemmer = SnowballStemmer(\"english\")\n",
    "\n",
    "Cluter_Data['NewReviews'] = Cluter_Data['Reviews'].str.lower().str.split()\n",
    "Cluter_Data['NewReviews'] = Cluter_Data['NewReviews'].apply(lambda x : [item for item in x if item not in stop])\n",
    "#Cluter_Data['NewReviews'] = Cluter_Data[\"NewReviews\"].apply(lambda x : [stemmer.stem(y) for y in x])\n"
   ]
  },
  {
   "cell_type": "code",
   "execution_count": 42,
   "metadata": {
    "collapsed": true
   },
   "outputs": [],
   "source": [
    "Cluter_Data['text_lem'] = [''.join([WordNetLemmatizer().lemmatize(re.sub('[^A-Za-z]', ' ', line))\n",
    "for line in lists]).strip() for lists in Cluter_Data['NewReviews']] "
   ]
  },
  {
   "cell_type": "code",
   "execution_count": 43,
   "metadata": {
    "collapsed": false
   },
   "outputs": [
    {
     "data": {
      "text/plain": [
       "Index([u'Product Name',   u'Brand Name',        u'Price',       u'Rating',\n",
       "            u'Reviews', u'Review Votes',   u'NewReviews',     u'text_lem'],\n",
       "      dtype='object')"
      ]
     },
     "execution_count": 43,
     "metadata": {},
     "output_type": "execute_result"
    }
   ],
   "source": [
    "Cluter_Data.columns"
   ]
  },
  {
   "cell_type": "code",
   "execution_count": 44,
   "metadata": {
    "collapsed": false
   },
   "outputs": [],
   "source": [
    "vectorizer = TfidfVectorizer(max_df=0.5,max_features=10000,min_df=10,stop_words='english',use_idf=True)"
   ]
  },
  {
   "cell_type": "code",
   "execution_count": 45,
   "metadata": {
    "collapsed": false
   },
   "outputs": [],
   "source": [
    "X = vectorizer.fit_transform(Cluter_Data['text_lem'].str.upper())"
   ]
  },
  {
   "cell_type": "code",
   "execution_count": 46,
   "metadata": {
    "collapsed": false
   },
   "outputs": [],
   "source": [
    "from sklearn.cluster import KMeans\n",
    "km = KMeans(n_clusters=5,init='k-means++',max_iter=200,n_init=1)"
   ]
  },
  {
   "cell_type": "code",
   "execution_count": 47,
   "metadata": {
    "collapsed": false
   },
   "outputs": [
    {
     "name": "stdout",
     "output_type": "stream",
     "text": [
      "cluster 0:\n",
      " good\n",
      " wasn\n",
      " annoying\n",
      " day\n",
      " far\n",
      " love\n",
      " phone\n",
      " wouldn\n",
      " wifi\n",
      " screen\n",
      "()\n",
      "cluster 1:\n",
      " don\n",
      " greatphone\n",
      " didn\n",
      " loveit\n",
      " phone\n",
      " workgreat\n",
      " great\n",
      " excelente\n",
      " twork\n",
      " lovephone\n",
      "()\n",
      "cluster 2:\n",
      " excellent\n",
      " couldn\n",
      " thanks\n",
      " good\n",
      " time\n",
      " thankyou\n",
      " fast\n",
      " like\n",
      " greatcondition\n",
      " greatbatterylife\n",
      "()\n",
      "cluster 3:\n",
      " unlocked\n",
      " gs\n",
      " mobile\n",
      " yes\n",
      " didn\n",
      " greatbuy\n",
      " phone\n",
      " note\n",
      " paid\n",
      " sunlocked\n",
      "()\n",
      "cluster 4:\n",
      " nicephone\n",
      " gs\n",
      " wow\n",
      " nice\n",
      " far\n",
      " thankyou\n",
      " loveit\n",
      " goodprice\n",
      " greatphone\n",
      " greatcondition\n",
      "()\n"
     ]
    }
   ],
   "source": [
    "km.fit(X)\n",
    "terms = vectorizer.get_feature_names()\n",
    "order_centroids = km.cluster_centers_.argsort()[:,::-1]\n",
    "for i in range(5):\n",
    "    print(\"cluster %d:\" %i)\n",
    "    for ind in order_centroids[i,:10]:\n",
    "        print(' %s' % terms[ind])\n",
    "    print()    \n",
    "\n",
    "\n",
    "\n"
   ]
  },
  {
   "cell_type": "code",
   "execution_count": null,
   "metadata": {
    "collapsed": true
   },
   "outputs": [],
   "source": []
  }
 ],
 "metadata": {
  "anaconda-cloud": {},
  "kernelspec": {
   "display_name": "Python [default]",
   "language": "python",
   "name": "python2"
  },
  "language_info": {
   "codemirror_mode": {
    "name": "ipython",
    "version": 2
   },
   "file_extension": ".py",
   "mimetype": "text/x-python",
   "name": "python",
   "nbconvert_exporter": "python",
   "pygments_lexer": "ipython2",
   "version": "2.7.12"
  }
 },
 "nbformat": 4,
 "nbformat_minor": 1
}
